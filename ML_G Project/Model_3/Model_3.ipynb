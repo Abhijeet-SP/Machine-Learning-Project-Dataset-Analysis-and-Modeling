{
 "cells": [
  {
   "cell_type": "code",
   "execution_count": 21,
   "id": "1f1b3547-7298-4a4c-99ad-4c70b136b8d7",
   "metadata": {},
   "outputs": [],
   "source": [
    "import numpy as np\n",
    "import pandas as pd"
   ]
  },
  {
   "cell_type": "code",
   "execution_count": 22,
   "id": "7d4d2900-af7d-4936-8842-7f448f295caf",
   "metadata": {},
   "outputs": [],
   "source": [
    "df = pd.read_csv('dataset.csv') "
   ]
  },
  {
   "cell_type": "code",
   "execution_count": 23,
   "id": "1ea46901-04a1-4a1c-bcc2-e31bd412419e",
   "metadata": {},
   "outputs": [],
   "source": [
    "df['Timestamp'] = pd.to_datetime(\n",
    "    df['LastUpdatedDate'] + ' ' + df['LastUpdatedTime'],\n",
    "    dayfirst=True\n",
    ")"
   ]
  },
  {
   "cell_type": "code",
   "execution_count": 24,
   "id": "378dbac9-d48b-4521-8b98-2a83feb05edc",
   "metadata": {},
   "outputs": [],
   "source": [
    "#Map traffic levels to numeric\n",
    "traffic_map = {'low': 0.5, 'medium': 1.5, 'average': 2.0, 'high': 3.0}\n",
    "df['TrafficLevel'] = df['TrafficConditionNearby'].map(traffic_map)"
   ]
  },
  {
   "cell_type": "code",
   "execution_count": 25,
   "id": "e50657d9-35e5-433e-aaef-711c216fa674",
   "metadata": {},
   "outputs": [],
   "source": [
    "#Map vehicle type to weights\n",
    "vehicle_map = {'cycle': 0.5, 'car': 1.5, 'bike': 1.0, 'truck': 2.0}\n",
    "df['VehicleWeight'] = df['VehicleType'].map(vehicle_map)"
   ]
  },
  {
   "cell_type": "code",
   "execution_count": 26,
   "id": "d4becb7c-84d6-4ddb-9734-db21ed3be561",
   "metadata": {},
   "outputs": [],
   "source": [
    "# Calculate occupancy rate\n",
    "df['OccupancyRate'] = df['Occupancy'] / df['Capacity']\n",
    "df['IsSpecialDay'] = df['IsSpecialDay'].astype(int) "
   ]
  },
  {
   "cell_type": "code",
   "execution_count": 27,
   "id": "79ac4f26-ee7a-4687-b051-bb9d41a3166e",
   "metadata": {},
   "outputs": [],
   "source": [
    "df['BasePrice'] = 10  # or any base value you prefer\n",
    "\n",
    "alpha = 0.5\n",
    "theta = 2\n",
    "beta = 0.2\n",
    "gamma = 0.3\n",
    "eta = 1.5\n",
    "delta = 0.5\n",
    "epsilon = 0.2"
   ]
  },
  {
   "cell_type": "code",
   "execution_count": 28,
   "id": "40f91d86-feb7-443c-9039-9c558c4cb809",
   "metadata": {},
   "outputs": [],
   "source": [
    "def calculate_raw_demand(row):\n",
    "    occupancy_effect = alpha * (row['OccupancyRate'] ** theta)\n",
    "    queue_effect = beta * np.log(1 + row['QueueLength'])\n",
    "    traffic_effect = gamma * (row['TrafficLevel'] ** eta)\n",
    "    special_day_effect = delta * row['IsSpecialDay']\n",
    "    vehicle_effect = epsilon * row['VehicleWeight']\n",
    "\n",
    "    raw_demand = occupancy_effect + queue_effect + traffic_effect + special_day_effect + vehicle_effect\n",
    "\n",
    "    return raw_demand\n",
    "\n",
    "#Nonlinear terms (square, log) let you adjust how sharply prices rise when factors spike.\n"
   ]
  },
  {
   "cell_type": "code",
   "execution_count": 29,
   "id": "e65ac94e-13fe-4b8a-86b3-cbc2b9147c9f",
   "metadata": {},
   "outputs": [],
   "source": [
    "df['RawDemand'] = df.apply(calculate_raw_demand, axis=1)"
   ]
  },
  {
   "cell_type": "code",
   "execution_count": 30,
   "id": "a0a14ef3-86a3-4e86-ac6a-f793095a4d0f",
   "metadata": {},
   "outputs": [],
   "source": [
    "from scipy.special import expit \n",
    "df['PriceMultiplier'] = 0.5 + 1.5 * expit(df['RawDemand'])"
   ]
  },
  {
   "cell_type": "code",
   "execution_count": 31,
   "id": "81758ad3-9983-49dd-82de-58c7d412d3b7",
   "metadata": {},
   "outputs": [],
   "source": [
    "df['Price'] = df['BasePrice'] * df['PriceMultiplier']"
   ]
  },
  {
   "cell_type": "code",
   "execution_count": 32,
   "id": "641d0ce7-b837-44c8-9bc3-a3f82ee56f36",
   "metadata": {},
   "outputs": [
    {
     "name": "stdout",
     "output_type": "stream",
     "text": [
      "   RawDemand  PriceMultiplier      Price\n",
      "0   0.550284         1.451302  14.513021\n",
      "1   0.550847         1.451498  14.514981\n",
      "2   0.635400         1.480569  14.805694\n",
      "3   0.642983         1.483141  14.831411\n",
      "4   0.559579         1.454533  14.545328\n"
     ]
    }
   ],
   "source": [
    "print(df[['RawDemand', 'PriceMultiplier', 'Price']].head())"
   ]
  },
  {
   "cell_type": "code",
   "execution_count": 35,
   "id": "244ecb2a-79db-4400-90d5-67752a0678c0",
   "metadata": {},
   "outputs": [],
   "source": [
    "lot_df = df.groupby('SystemCodeNumber').agg({\n",
    "    'Latitude': 'mean',\n",
    "    'Longitude': 'mean',\n",
    "    'Occupancy': 'mean',\n",
    "    'Capacity': 'mean',\n",
    "    'Price': 'mean'\n",
    "}).reset_index()"
   ]
  },
  {
   "cell_type": "code",
   "execution_count": 38,
   "id": "69dfdc0e-124a-4e17-8008-048b623fb33a",
   "metadata": {},
   "outputs": [],
   "source": [
    "def haversine(lat1, lon1, lat2, lon2):\n",
    "    R = 6371  # Earth radius in kilometers\n",
    "    lat1, lon1, lat2, lon2 = map(np.radians, [lat1, lon1, lat2, lon2])\n",
    "    dlat = lat2 - lat1\n",
    "    dlon = lon2 - lon1\n",
    "    a = np.sin(dlat/2)**2 + np.cos(lat1) * np.cos(lat2) * np.sin(dlon/2)**2\n",
    "    return 2 * R * np.arcsin(np.sqrt(a))"
   ]
  },
  {
   "cell_type": "code",
   "execution_count": 39,
   "id": "c40cde02-ed47-4b12-9dd5-985add5e44ee",
   "metadata": {},
   "outputs": [],
   "source": [
    "coords = lot_df[['Latitude', 'Longitude']].values\n",
    "dist_matrix = np.array([\n",
    "    [haversine(lat1, lon1, lat2, lon2) for lat2, lon2 in coords]\n",
    "    for lat1, lon1 in coords\n",
    "])"
   ]
  },
  {
   "cell_type": "code",
   "execution_count": 40,
   "id": "4d4b2912-bbdb-4878-ad68-61cf04dc2279",
   "metadata": {},
   "outputs": [],
   "source": [
    "adjusted_prices = []"
   ]
  },
  {
   "cell_type": "code",
   "execution_count": 41,
   "id": "170de6d3-65ff-47c9-9432-665c53605b3f",
   "metadata": {},
   "outputs": [],
   "source": [
    "for i in range(len(lot_df)):\n",
    "    lot = lot_df.iloc[i]\n",
    "    distances = dist_matrix[i]\n",
    "    \n",
    "    # Find nearby lots within 0.5 km (excluding self)\n",
    "    nearby_idx = np.where((distances < 0.5) & (distances > 0))[0]\n",
    "    nearby_prices = lot_df.iloc[nearby_idx]['Price'] if len(nearby_idx) > 0 else pd.Series(dtype='float64')\n",
    "    \n",
    "    price = lot['Price']\n",
    "    \n",
    "    # Case 1: Lot is full (or nearly full) and cheaper lots are nearby\n",
    "    if lot['OccupancyRate'] >= 0.95 and not nearby_prices.empty and (nearby_prices < price).any():\n",
    "        price = nearby_prices.mean() * 0.95  # Reduce price slightly\n",
    "    \n",
    "    # Case 2: All nearby lots are more expensive → increase price up to 10%\n",
    "    elif not nearby_prices.empty and (nearby_prices > price).all():\n",
    "        price = min(price * 1.10, nearby_prices.mean())  # Conservative increase\n",
    "    \n",
    "    adjusted_prices.append(price)"
   ]
  },
  {
   "cell_type": "code",
   "execution_count": 42,
   "id": "338612d8-21ad-4126-bfab-9d80abccabff",
   "metadata": {},
   "outputs": [],
   "source": [
    "lot_df['AdjustedPrice'] = adjusted_prices"
   ]
  },
  {
   "cell_type": "code",
   "execution_count": 43,
   "id": "64b0abcf-2cba-4a15-a9bd-435c3a9bf667",
   "metadata": {},
   "outputs": [
    {
     "name": "stdout",
     "output_type": "stream",
     "text": [
      "  SystemCodeNumber      Price  AdjustedPrice  OccupancyRate\n",
      "0      BHMBCCMKT01  16.651024      17.228261       0.280814\n",
      "1      BHMBCCTHL01  17.228261      17.228261       0.745110\n",
      "2      BHMEURBRD01  17.107921      17.107921       0.643602\n",
      "3      BHMMBMMBX01  17.189923      17.189923       0.694762\n",
      "4      BHMNCPHST01  16.916888      17.003838       0.464739\n"
     ]
    }
   ],
   "source": [
    "print(lot_df[['SystemCodeNumber', 'Price', 'AdjustedPrice', 'OccupancyRate']].head())"
   ]
  },
  {
   "cell_type": "code",
   "execution_count": 46,
   "id": "c18d8481-b1a0-4c85-b155-a52aecbf932a",
   "metadata": {},
   "outputs": [],
   "source": [
    "final_df = lot_df[['SystemCodeNumber', 'Latitude', 'Longitude', 'Occupancy', 'Capacity',\n",
    "                   'OccupancyRate', 'Price', 'AdjustedPrice']]"
   ]
  },
  {
   "cell_type": "code",
   "execution_count": 47,
   "id": "4b64fd5c-57d7-4fad-b133-b82dd1e73c38",
   "metadata": {},
   "outputs": [
    {
     "name": "stdout",
     "output_type": "stream",
     "text": [
      "✅ Final CSV file 'competitive_pricing_output.csv' has been saved.\n"
     ]
    }
   ],
   "source": [
    "final_df.to_csv('competitive_pricing_output.csv', index=False)\n",
    "print(\"✅ Final CSV file 'competitive_pricing_output.csv' has been saved.\")"
   ]
  },
  {
   "cell_type": "code",
   "execution_count": null,
   "id": "78c1dd03-d6e2-4c01-8ce4-dfa22fff82d6",
   "metadata": {},
   "outputs": [],
   "source": []
  }
 ],
 "metadata": {
  "kernelspec": {
   "display_name": "Python [conda env:base] *",
   "language": "python",
   "name": "conda-base-py"
  },
  "language_info": {
   "codemirror_mode": {
    "name": "ipython",
    "version": 3
   },
   "file_extension": ".py",
   "mimetype": "text/x-python",
   "name": "python",
   "nbconvert_exporter": "python",
   "pygments_lexer": "ipython3",
   "version": "3.12.7"
  }
 },
 "nbformat": 4,
 "nbformat_minor": 5
}
